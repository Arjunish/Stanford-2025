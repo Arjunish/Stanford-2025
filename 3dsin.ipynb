{
 "cells": [
  {
   "cell_type": "markdown",
   "id": "084824d9",
   "metadata": {},
   "source": [
    "# Interactive Animated Sine Waves with Axis Sliders\n",
    "This notebook demonstrates an animated plot of two sine waves and their product, with interactive sliders to adjust the axis limits. For best results, run this notebook in JupyterLab or Jupyter Notebook."
   ]
  },
  {
   "cell_type": "code",
   "execution_count": null,
   "id": "f4174907",
   "metadata": {},
   "outputs": [
    {
     "data": {
      "application/vnd.jupyter.widget-view+json": {
       "model_id": "f993b7105eb240338578a7a254f95d9d",
       "version_major": 2,
       "version_minor": 0
      },
      "text/plain": [
       "IntSlider(value=2, description='Number of Waves', max=10, min=1)"
      ]
     },
     "metadata": {},
     "output_type": "display_data"
    },
    {
     "data": {
      "application/vnd.jupyter.widget-view+json": {
       "model_id": "809c3d32ddce48919b21593d2bc8f2d3",
       "version_major": 2,
       "version_minor": 0
      },
      "text/plain": [
       "HBox(children=(HBox(children=(VBox(children=(FloatSlider(value=0.0, description='a1', max=10.0), FloatSlider(v…"
      ]
     },
     "metadata": {},
     "output_type": "display_data"
    },
    {
     "data": {
      "application/vnd.jupyter.widget-view+json": {
       "model_id": "17c3cc0db5424395bcedd72669ccc8c8",
       "version_major": 2,
       "version_minor": 0
      },
      "text/plain": [
       "Button(description='Animate Combined Wave', style=ButtonStyle())"
      ]
     },
     "metadata": {},
     "output_type": "display_data"
    }
   ],
   "source": [
    "import numpy as np\n",
    "import matplotlib.pyplot as plt\n",
    "import matplotlib.animation as animation\n",
    "import ipywidgets as widgets\n",
    "from IPython.display import display, clear_output, HTML\n",
    "\n",
    "n = widgets.IntSlider(min=1, max=10, step=1, value=2, description='Number of Waves')\n",
    "display(n)\n",
    "\n",
    "#this is a container for the sliders to be displayed\n",
    "a_column = widgets.VBox()\n",
    "ω_column = widgets.VBox()\n",
    "k_column = widgets.VBox()\n",
    "sliders_box = widgets.HBox([a_column, ω_column, k_column])\n",
    "\n",
    "#this is a list for the values of the sliders to put in the graph\n",
    "line_sliders = []\n",
    "\n",
    "def make_sliders(index):\n",
    "    a = widgets.FloatSlider(min=0, max=10, step=0.1, description=f'a{index}')\n",
    "    ω = widgets.FloatSlider(min=0, max=10, step=1, description=f'ω{index}')\n",
    "    k = widgets.FloatSlider(min=0, max=10, step=0.1, description=f'k{index}')\n",
    "    return {'a': a, 'ω': ω, 'k': k}\n",
    "\n",
    "def update_sliders(change=None):\n",
    "    a_column.children = []\n",
    "    ω_column.children = []\n",
    "    k_column.children = []\n",
    "    line_sliders.clear()\n",
    "    for i in range(n.value):\n",
    "        sliders = make_sliders(i + 1)\n",
    "        line_sliders.append(sliders)\n",
    "        a_column.children += (sliders['a'],)\n",
    "        ω_column.children += (sliders['ω'],)\n",
    "        k_column.children += (sliders['k'],)\n",
    "\n",
    "#updates the amount of sliders if n changes\n",
    "gridsliders_box = widgets.HBox([sliders_box])\n",
    "n.observe(update_sliders, names='value')\n",
    "update_sliders(None)\n",
    "display(gridsliders_box)\n",
    "\n",
    "# button to make graph\n",
    "start = widgets.Button(description=\"Animate Combined Wave\")\n",
    "display(start)\n",
    "\n",
    "# Start animation function\n",
    "def started(b):\n",
    "    clear_output(wait=True)\n",
    "    display(n)\n",
    "    display(gridsliders_box)\n",
    "    display(start)\n",
    "\n",
    "    # Data setup\n",
    "    x = np.linspace(-10, 10, 400)\n",
    "    fig, ax = plt.subplots(figsize=(10, 4))\n",
    "    ax.set_xlim(0, 10)\n",
    "    ax.set_ylim(-10, 10)\n",
    "    line_sum, = ax.plot(x, np.zeros_like(x), color='green', label='Combined Wave')\n",
    "    ax.legend()\n",
    "\n",
    "    # Animation update function\n",
    "    def update(frame):\n",
    "        y_total = np.zeros_like(x)\n",
    "        for sliders in line_sliders:\n",
    "            a = sliders['a'].value\n",
    "            ω = sliders['ω'].value\n",
    "            k = sliders['k'].value\n",
    "            t = 5\n",
    "            y_total += a * np.sin(ω * x - k * t)\n",
    "        line_sum.set_ydata(y_total)\n",
    "        return (line_sum,)\n",
    "\n",
    "    ani = animation.FuncAnimation(fig, update, frames=150, interval=100, blit=True)  # blit=False is key\n",
    "    plt.show()\n",
    "\n",
    "\n",
    "\n",
    "start.on_click(started)\n"
   ]
  }
 ],
 "metadata": {
  "kernelspec": {
   "display_name": ".venv",
   "language": "python",
   "name": "python3"
  },
  "language_info": {
   "codemirror_mode": {
    "name": "ipython",
    "version": 3
   },
   "file_extension": ".py",
   "mimetype": "text/x-python",
   "name": "python",
   "nbconvert_exporter": "python",
   "pygments_lexer": "ipython3",
   "version": "3.12.1"
  }
 },
 "nbformat": 4,
 "nbformat_minor": 5
}
